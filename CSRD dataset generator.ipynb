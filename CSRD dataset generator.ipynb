{
 "cells": [
  {
   "cell_type": "markdown",
   "metadata": {},
   "source": [
    "# CSRD DATASET GENERATOR #\n",
    "_By: Michiel Tange_,\n",
    "_Last updated: 07/11/2024_\n",
    "\n",
    "\n",
    "The purpose of this script is to facilitate finding which companies in the areas of the Sparke & Keane offices can be contacted about CSRD.\n",
    "\n",
    "It does this by first finding the location coordinates of all the company headquarters using Google Maps' Geocoding API. The company data is extracted from Factset. It then calculates the distances between the companies and the different Sparke & Keane offices. It adds the original Factset data, as well as the calculated data to an Excel output file. Afterwards, it sets up a criteria sheet in the Excel file where the criteria for consideration are defined. Then, each Sparke & Keane office gets added as a separate sheet to the output Excel file with the appropriate Excel formulas filled in for filtering the data according to the specified criteria. This ensures a dynamic file at the end that end-users can play around with."
   ]
  },
  {
   "cell_type": "markdown",
   "metadata": {},
   "source": [
    "## Set-up ##"
   ]
  },
  {
   "cell_type": "markdown",
   "metadata": {},
   "source": [
    "### Imports ###"
   ]
  },
  {
   "cell_type": "code",
   "execution_count": 23,
   "metadata": {},
   "outputs": [],
   "source": [
    "import string\n",
    "import openpyxl\n",
    "import googlemaps\n",
    "import pandas as pd\n",
    "from os import listdir\n",
    "from haversine import haversine"
   ]
  },
  {
   "cell_type": "markdown",
   "metadata": {},
   "source": [
    "### Objects ###\n",
    "The following objects will be used throughout the script:\n",
    "- Sparke & Keane office\n",
    "- Output file\n",
    "- Criterion"
   ]
  },
  {
   "cell_type": "code",
   "execution_count": 45,
   "metadata": {},
   "outputs": [],
   "source": [
    "class office:\n",
    "    \"\"\" a Sparke & Keane office \"\"\"\n",
    "\n",
    "    def __init__(self, name, address, location=None):\n",
    "        \"\"\"\n",
    "        initialise an instance of office\n",
    "\n",
    "        Properties\n",
    "        ----------\n",
    "        name : str\n",
    "            the name of the specific office\n",
    "        address : str\n",
    "            the office's address\n",
    "        location : dict\n",
    "            dictionary holding the office's location coordinates with 'lng' (longitude) and 'lat' (latitude) as keys\n",
    "        \"\"\"\n",
    "\n",
    "        self.name = name\n",
    "        self.address = address\n",
    "        self.location = location\n",
    "\n",
    "    def calc_dist(self, other_location):\n",
    "        \"\"\" \n",
    "        calculate the distance in kilometers between the office and another location using haversine\n",
    "\n",
    "        args\n",
    "        ----\n",
    "        other_location : dict\n",
    "            dictionary holding the other location's coordinates with 'lng' (longitude) and 'lat' (latitude) as keys\n",
    "\n",
    "        returns\n",
    "        -------\n",
    "        dist : int\n",
    "            the distance in kilometers between the office's location and the other location\n",
    "        \"\"\"\n",
    "\n",
    "        # put the office coordinates in a tuple\n",
    "        office_coords = (self.location['lat'], self.location['lng'])\n",
    "        \n",
    "        # put the other location coordinates in a tuple\n",
    "        other_coords = (other_location['lat'], other_location['lng'])\n",
    "\n",
    "        # calculate the distance using haversine\n",
    "        dist = int(haversine(office_coords, other_coords))\n",
    "        \n",
    "        return dist\n",
    "\n",
    "\n",
    "class out_file:\n",
    "    \"\"\" an output Excel file \"\"\"\n",
    "\n",
    "    def __init__(self, name, full_data, criteria):\n",
    "        \"\"\" \n",
    "        initialise an instance of out_file \n",
    "        \n",
    "        Properties\n",
    "        ----------\n",
    "        name : str\n",
    "            the name of the output Excel file (include extension)\n",
    "        full_data : str\n",
    "            the name of the sheet within the output Excel file that is to hold the full (unfiltered) data\n",
    "        criteria : str\n",
    "            the name of the sheet within the output Excel file that is to hold the filtering criteria \n",
    "        \"\"\"\n",
    "\n",
    "        self.name = name\n",
    "        self.full_data = full_data\n",
    "        self.criteria = criteria\n",
    "\n",
    "\n",
    "class criterion:\n",
    "    \"\"\" a criterion to be used for filtering the full data \"\"\"\n",
    "\n",
    "    def __init__(self, name, type, value, ref_col=None):\n",
    "        \"\"\" \n",
    "        initialise an instance of criterion\n",
    "\n",
    "        Properties\n",
    "        ----------\n",
    "        name : str\n",
    "            the name of the criterion (how it will show up in the output file)\n",
    "        type : str\n",
    "            the type of criterion (CSRD or S&K)\n",
    "        value : int\n",
    "            the value that needs to be reached for the criterion to be met\n",
    "        ref_col : str\n",
    "            the name of the column in the original Factset data that corresponds to the criterion\n",
    "        \"\"\"\n",
    "\n",
    "        self.name = name\n",
    "        self.type = type\n",
    "        self.value = value\n",
    "        self.ref_col = ref_col"
   ]
  },
  {
   "cell_type": "markdown",
   "metadata": {},
   "source": [
    "### API key ###\n",
    "Reading in the Google Cloud developer API key."
   ]
  },
  {
   "cell_type": "code",
   "execution_count": 25,
   "metadata": {
    "tags": [
     "remove_cell"
    ]
   },
   "outputs": [],
   "source": [
    "with open(\"APIkey.txt\", 'r') as file:\n",
    "    API_key = file.read()"
   ]
  },
  {
   "cell_type": "markdown",
   "metadata": {},
   "source": [
    "### Client ###"
   ]
  },
  {
   "cell_type": "code",
   "execution_count": 26,
   "metadata": {},
   "outputs": [],
   "source": [
    "gmaps = googlemaps.Client(key=API_key)"
   ]
  },
  {
   "cell_type": "markdown",
   "metadata": {},
   "source": [
    "### Data files ###"
   ]
  },
  {
   "cell_type": "code",
   "execution_count": 27,
   "metadata": {},
   "outputs": [],
   "source": [
    "data_files = listdir(\"Factset data\")"
   ]
  },
  {
   "cell_type": "markdown",
   "metadata": {},
   "source": [
    "### Global parameters ###"
   ]
  },
  {
   "cell_type": "markdown",
   "metadata": {},
   "source": [
    "Make a dictionary for the upper case alphabet to use for easier referencing of Excel cels."
   ]
  },
  {
   "cell_type": "code",
   "execution_count": 51,
   "metadata": {},
   "outputs": [],
   "source": [
    "alph = list(string.ascii_uppercase)\n",
    "alph_dict = {}\n",
    "for i in range(26):\n",
    "    alph_dict[i] = alph[i]"
   ]
  },
  {
   "cell_type": "markdown",
   "metadata": {},
   "source": [
    "Define custom functions to be used throughout the script."
   ]
  },
  {
   "cell_type": "code",
   "execution_count": 52,
   "metadata": {},
   "outputs": [],
   "source": [
    "def get_coords(location):\n",
    "    \"\"\"\n",
    "    get the longitude and latitude coordinates for a location\n",
    "\n",
    "    args\n",
    "    ----\n",
    "    location : str \n",
    "        location for which to get coordinates\n",
    "    \n",
    "    returns\n",
    "    -------\n",
    "    coordinates : dict \n",
    "        dictionary containing longitude and latitude denoted by the keys 'lng' and 'lat'\n",
    "    \"\"\" \n",
    "    return gmaps.geocode(location)[0]['geometry']['location']\n",
    "\n",
    "def to_xl_col(col, dataset, dict=alph_dict):\n",
    "    \"\"\"\n",
    "    find the corresponding Excel column reference for a target column in a dataset. The index of the target column in the dataset denotes the output.\n",
    "    i.e., the first column of the dataset (index 0) becomes column 'A' in Excel, the second (index 1) becomes column 'B'. Etc.\n",
    "    This function uses a dictionary of the uppercase alphabet called alph_dict for conversion.\n",
    "\n",
    "    args\n",
    "    ----\n",
    "    col : str\n",
    "        the name of the target column for which to find the Excel reference\n",
    "    dataset : pd.DataFrame\n",
    "        the dataset in which the target column can be found\n",
    "\n",
    "    returns\n",
    "    ------\n",
    "    xl_col : str\n",
    "        the Excel column reference\n",
    "    \"\"\"\n",
    "    \n",
    "    data = list(dataset.columns)\n",
    "    xl_col = dict[data.index(col) + 1]\n",
    "\n",
    "    return xl_col"
   ]
  },
  {
   "cell_type": "markdown",
   "metadata": {},
   "source": [
    "Set the addresses of the different office of Sparke & Keane (can be added to / adjusted)."
   ]
  },
  {
   "cell_type": "code",
   "execution_count": 29,
   "metadata": {},
   "outputs": [],
   "source": [
    "maastricht = office(name=       \"SK Maastricht\",\n",
    "                    address=    \"Bassin 108, 6211 AK Maastricht, Netherlands\")\n",
    "\n",
    "eindhoven = office( name=       \"SK Eindhoven\",\n",
    "                    address=    \"Achtseweg Zuid 221, 5651 GW Eindhoven, Netherlands\")\n",
    "\n",
    "nijmegen = office(  name=       \"SK Nijmegen\",\n",
    "                    address=    \"Oranjesingel 51, 6511 NP Nijmegen, Netherlands\")\n",
    "\n",
    "offices = [maastricht,\n",
    "           eindhoven,\n",
    "           nijmegen]\n",
    "\n",
    "# add the locations to each office\n",
    "for office in offices:\n",
    "    office.location = get_coords(office.address)"
   ]
  },
  {
   "cell_type": "markdown",
   "metadata": {},
   "source": [
    "Set the parameters of the output (Excel) file."
   ]
  },
  {
   "cell_type": "code",
   "execution_count": 46,
   "metadata": {},
   "outputs": [],
   "source": [
    "output = out_file(name=\"CSRD dataset.xlsx\",\n",
    "                  full_data='Ruwe data',\n",
    "                  criteria='Criteria')"
   ]
  },
  {
   "cell_type": "markdown",
   "metadata": {},
   "source": [
    "Set the parameters for the criteria."
   ]
  },
  {
   "cell_type": "code",
   "execution_count": 31,
   "metadata": {},
   "outputs": [],
   "source": [
    "crit_employees = criterion( name=       'Minimaal aantal werknemers (#)',\n",
    "                            type=       'CSRD',\n",
    "                            value=      250,\n",
    "                            ref_col=    'Number of Employees')\n",
    "\n",
    "crit_revenue = criterion(   name=       'Minimale omzet (MM$)',\n",
    "                            type=       'CSRD',\n",
    "                            value=      50,\n",
    "                            ref_col=    'Revenue (MM, USD)')\n",
    "\n",
    "crit_assets = criterion(    name=       'Minimale activa (MM$)',\n",
    "                            type=       'CSRD',\n",
    "                            value=      25,\n",
    "                            ref_col=    'Total Assets (MM) (USD) (USD)')\n",
    "\n",
    "crit_dist = criterion(      name=       'Maximale afstand tot kantoor (km)',\n",
    "                            type=       'S&K',\n",
    "                            value=      50)\n",
    "\n",
    "criteria = [crit_employees,\n",
    "            crit_revenue,\n",
    "            crit_assets,\n",
    "            crit_dist]"
   ]
  },
  {
   "cell_type": "markdown",
   "metadata": {},
   "source": [
    "## Pre-processing ##\n",
    "Cleaning up some weird stuff Factset adds to the Excel file. <span style=\"color:green\">**Run this only once.**</span>"
   ]
  },
  {
   "cell_type": "code",
   "execution_count": 265,
   "metadata": {},
   "outputs": [],
   "source": [
    "for data_file in data_files:\n",
    "    filename = data_file\n",
    "    wb = openpyxl.load_workbook(filename)\n",
    "    sheet = wb['Companies_Results']\n",
    "    sheet.delete_rows(1, 3)\n",
    "    wb.save(filename)"
   ]
  },
  {
   "cell_type": "markdown",
   "metadata": {},
   "source": [
    "### Loading data ###"
   ]
  },
  {
   "cell_type": "code",
   "execution_count": 57,
   "metadata": {},
   "outputs": [],
   "source": [
    "data = pd.DataFrame()\n",
    "for data_file in data_files:\n",
    "    temp_data = pd.read_excel(f'Factset data\\\\{data_file}')\n",
    "    data = pd.concat([data, temp_data], ignore_index=True)"
   ]
  },
  {
   "cell_type": "markdown",
   "metadata": {},
   "source": [
    "### Finding all unique cities ###"
   ]
  },
  {
   "cell_type": "code",
   "execution_count": 58,
   "metadata": {},
   "outputs": [],
   "source": [
    "city_countries = data.loc[data['City'] != '-',['City', 'Country']].drop_duplicates() # save unique city-country pairs (some cities occur in multiple countries) - drop all '-' for missing cities\n",
    "city_countries['City_Country'] = city_countries['City'] + ', ' + city_countries['Country'] # combine both pandas Series into one\n",
    "cities = city_countries['City_Country'].to_numpy() # save as a numpy array for faster iterating"
   ]
  },
  {
   "cell_type": "markdown",
   "metadata": {},
   "source": [
    "### Initializing empty dictionary ###\n",
    "The dictionary is going to hold the cities as the keys, and their coordinates as the values. The coordinates are also a dictionary with keys: 'lng' & 'lat' for longitude and latitude respectively, and the actual coordinates as the values."
   ]
  },
  {
   "cell_type": "code",
   "execution_count": 59,
   "metadata": {},
   "outputs": [],
   "source": [
    "city_coords = {}"
   ]
  },
  {
   "cell_type": "markdown",
   "metadata": {},
   "source": [
    "## Distances ##"
   ]
  },
  {
   "cell_type": "markdown",
   "metadata": {},
   "source": [
    "### Getting the location coordinates ###\n",
    "Getting the coordinates (longitude and latitude) for each of the unique cities using Google's Geocoding API."
   ]
  },
  {
   "cell_type": "code",
   "execution_count": 60,
   "metadata": {},
   "outputs": [],
   "source": [
    "for city in cities:\n",
    "    try:\n",
    "        coords = get_coords(city)\n",
    "    except IndexError as e:\n",
    "        print(f'{e} for city: {city}') # error handling for cities (city-country pairs) Google couldn't find\n",
    "    city_coords[city] = coords\n"
   ]
  },
  {
   "cell_type": "markdown",
   "metadata": {},
   "source": [
    "### Calculate the distances between cities and offices ###\n",
    "Calculate the distances between a city location (coordinates) and the Sparke & Keane offices (coordinates). The distances are calculated using the haversine formula for calculating distances between points on a sphere:\n",
    "$$\n",
    "a = \\sin^{2}(\\frac{\\Delta \\phi}{2}) + \\cos \\phi_1 \\cdot \\cos \\phi_2 \\cdot \\sin^{2}(\\frac{\\Delta \\lambda}{2})\n",
    "$$\n",
    "$$\n",
    "c = 2 \\cdot \\arctan 2(\\sqrt{a}, \\sqrt{1-a})\n",
    "$$\n",
    "$$\n",
    "d = \\textrm{R} \\cdot c\n",
    "$$\n",
    "Where $\\phi$ is latitude, $\\lambda$ is longitude, and $\\textrm{R}$ is the radius of Earth (approximately 6,371km). Additionally, $a$ is the haversine formula, which determines the haversine of the central angle connecting both points through the Earth's centre. $c$ is the haversine function, which determines the central angle. $d$ calculates the distance between both points using the radius of the Earth."
   ]
  },
  {
   "cell_type": "code",
   "execution_count": 61,
   "metadata": {},
   "outputs": [],
   "source": [
    "dist_to_offices = {} # save the distances to each office in a dictionary with the city as the key, and a dictionary of offices as the value\n",
    "\n",
    "for city in city_coords.keys():\n",
    "    temp = {} # save the distance to an office in a dictionary with the office as the key\n",
    "    for office in offices:\n",
    "        temp[office.name] = office.calc_dist(city_coords[city])\n",
    "    dist_to_offices[city] = temp"
   ]
  },
  {
   "cell_type": "markdown",
   "metadata": {},
   "source": [
    "### Adding calculated data ###\n",
    "Add the distance to each Sparke & Keane office from each company to the dataset."
   ]
  },
  {
   "cell_type": "code",
   "execution_count": 62,
   "metadata": {},
   "outputs": [],
   "source": [
    "add_data = {}\n",
    "for i in range(len(data['Company Entity Id'])):\n",
    "    if data['City'][i] != '-':\n",
    "        city_country = data['City'][i] + ', ' + data['Country'][i] # combine the city and country data to facilitate searching the dist_to_offices dictionary\n",
    "        temp = {}\n",
    "        for office in dist_to_offices[city_country].keys():\n",
    "            temp[f'afstand tot {office}'] = dist_to_offices[city_country][office] # the f-string denotes the column headers of the added data\n",
    "        add_data[data['Company Entity Id'][i]] = temp\n",
    "\n",
    "add_data_df = pd.DataFrame.from_dict(add_data, orient='index') # convert the dictionary to a DataFrame\n",
    "data = data.join(add_data_df, on='Company Entity Id')"
   ]
  },
  {
   "cell_type": "markdown",
   "metadata": {},
   "source": [
    "### Saving the data back to Excel ###"
   ]
  },
  {
   "cell_type": "code",
   "execution_count": 63,
   "metadata": {},
   "outputs": [],
   "source": [
    "data.to_excel(output.name, sheet_name=output.full_data, index_label=\"index\")"
   ]
  },
  {
   "cell_type": "markdown",
   "metadata": {},
   "source": [
    "## Per office output ##\n",
    "Create per-office sheets in the Excel file where all companies that meet CSRD (and Sparke & Keane) criteria are saved."
   ]
  },
  {
   "cell_type": "markdown",
   "metadata": {},
   "source": [
    "### Criteria sheet ###\n",
    "Set up a sheet in the Excel file where the filter criteria (CSRD and Sparke & Keane) are specified."
   ]
  },
  {
   "cell_type": "code",
   "execution_count": 64,
   "metadata": {},
   "outputs": [],
   "source": [
    "wb = openpyxl.load_workbook(output.name)\n",
    "wb.create_sheet(output.criteria)\n",
    "\n",
    "i = 1\n",
    "for criterion in criteria:\n",
    "    wb[output.criteria][f'A{i}'] = criterion.name\n",
    "    wb[output.criteria][f'B{i}'] = criterion.value\n",
    "    i += 1"
   ]
  },
  {
   "cell_type": "markdown",
   "metadata": {},
   "source": [
    "### Office sheets ###\n",
    "Set up the office sheets. Each sheet shows which companies meet the criteria for that specific office. For a company to be included it has to meet at least 2 out of the 3 CSRD criteria, as well as the Sparke & Keane criteria of distance to an office. The logic gate for meeting at least 2 out of the 3 CSRD criteria looks as follows: \n",
    "$$a\\text{ } \\&\\&\\text{ } (b || c)\\text{ } ||\\text{ } (b \\&\\& c)$$\n",
    "This will be build into the Excel file as a Filter function, so future users can make dynamic changes if they wish.\n",
    "\n",
    "<span style=\"color:green\">**NOTE: This is not future proof to a changing number of CSRD criteria, or a changing logic to qualify (i.e., if 2 out of 3 criteria changes, this won't change with).**</span>"
   ]
  },
  {
   "cell_type": "markdown",
   "metadata": {},
   "source": [
    "Set up the logic gates. One logic gate for each CSRD criteria, and $n$ number of logic gates for Sparke & Keane offices (as each office gets its own sheet)."
   ]
  },
  {
   "cell_type": "code",
   "execution_count": 65,
   "metadata": {},
   "outputs": [],
   "source": [
    "a = f\"('{output.full_data}'!{to_xl_col(crit_employees.ref_col, data)}2:{to_xl_col(crit_employees.ref_col, data)}{len(data) + 1}>='{output.criteria}'!B1)\" # logic gate for the employee csrd criteria\n",
    "b = f\"('{output.full_data}'!{to_xl_col(crit_revenue.ref_col, data)}2:{to_xl_col(crit_revenue.ref_col, data)}{len(data) + 1}>='{output.criteria}'!B2)\" # logic gate for the revenue csrd criteria\n",
    "c = f\"('{output.full_data}'!{to_xl_col(crit_assets.ref_col, data)}2:{to_xl_col(crit_assets.ref_col, data)}{len(data) + 1}>='{output.criteria}'!B3)\" # logic gate for the assets csrd criteria\n",
    "\n",
    "office_logic_gate = {}\n",
    "for office in offices:\n",
    "    office_logic_gate[office.name] = f\"(('{output.full_data}'!{to_xl_col(f'afstand tot {office.name}', data)}2:{to_xl_col(f'afstand tot {office.name}', data)}{len(data) + 1}<'{output.criteria}'!B4)*('{output.full_data}'!{to_xl_col(f'afstand tot {office.name}', data)}2:{to_xl_col(f'afstand tot {office.name}', data)}{len(data) + 1}>0))\" # logic gate for the distance S&K criteria (includes a '>0' clause, since Excel regards empty cells as smaller than 0)"
   ]
  },
  {
   "cell_type": "markdown",
   "metadata": {},
   "source": [
    "Fill in the office sheets with the formulas."
   ]
  },
  {
   "cell_type": "code",
   "execution_count": 66,
   "metadata": {},
   "outputs": [],
   "source": [
    "for office in offices:\n",
    "    wb.create_sheet(office.name)\n",
    "    wb[office.name]['A1'] = f\"'{output.full_data}'!$A$1:${alph_dict[len(data.columns)]}$1\"\n",
    "    wb[office.name]['A2'] = f\"FILTER('{output.full_data}'!$A$2:${alph_dict[len(data.columns)]}${len(data) + 1};(((({a}*({b}+{c}))+({b}*{c})))*{office_logic_gate[office.name]}))\""
   ]
  },
  {
   "cell_type": "markdown",
   "metadata": {},
   "source": [
    "<span style=\"color:green\">**NOTE: because of a support issue regarding Dynamic Arrays and openpyxl the above formulas cannot yet be entered as official formulas. Instead they are entered as text. Adding \"=\" before them in Excel enables the formulas (with Dynamic Arrays).**</span>\n"
   ]
  },
  {
   "cell_type": "markdown",
   "metadata": {},
   "source": [
    "### Save the ouput file ###"
   ]
  },
  {
   "cell_type": "code",
   "execution_count": 67,
   "metadata": {},
   "outputs": [],
   "source": [
    "wb.save(output.name)"
   ]
  }
 ],
 "metadata": {
  "kernelspec": {
   "display_name": "base",
   "language": "python",
   "name": "python3"
  },
  "language_info": {
   "codemirror_mode": {
    "name": "ipython",
    "version": 3
   },
   "file_extension": ".py",
   "mimetype": "text/x-python",
   "name": "python",
   "nbconvert_exporter": "python",
   "pygments_lexer": "ipython3",
   "version": "3.10.9"
  }
 },
 "nbformat": 4,
 "nbformat_minor": 2
}
