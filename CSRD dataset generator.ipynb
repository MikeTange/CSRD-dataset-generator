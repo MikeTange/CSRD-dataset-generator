{
 "cells": [
  {
   "cell_type": "markdown",
   "metadata": {},
   "source": [
    "# CSRD DATASET GENERATOR #\n",
    "_By: Michiel Tange_,\n",
    "_Last updated: 5/11/2024_\n",
    "\n",
    "\n",
    "The purpose of this script is to facilitate finding which companies in the areas of the Sparke & Keane offices can be contacted about CSRD.\n",
    "\n",
    "It does this by first finding the location coordinates of all the company headquarters using Google Maps' Geocoding API. The company data is extracted from Factset. It then calculates the distances between the companies and the different Sparke & Keane offices. It adds the original Factset data, as well as the calculated data to an Excel output file. Afterwards, it sets up a criteria sheet in the Excel file where the criteria for consideration are defined. Then, each Sparke & Keane office gets added as a separate sheet to the output Excel file with the appropriate Excel formulas filled in for filtering the data according to the specified criteria. This ensures a dynamic file at the end that end-users can play around with."
   ]
  },
  {
   "cell_type": "markdown",
   "metadata": {
    "tags": [
     "remove_cell"
    ]
   },
   "source": [
    "### _TO DO_ ###\n",
    "- convert to an OOP solution with the following objects:\n",
    "    - Sparke & Keane office \n",
    "        - attributes: office parameters \n",
    "        - methods: distance calculations, Excel sheet adding\n",
    "    - output file \n",
    "        - attributes: file parameters \n",
    "        - methods: open file, insert sheet, save file\n",
    "    - criteria\n",
    "        - attributes: classification (CSRD or S&K), default value, column pointer in Factset data, desired column name for output file\n",
    "- add custom function(s) for facilitating the translations to Excel references (e.g., cel 'A1')\n",
    "- add security features (e.g., locked cells) to the Excel file"
   ]
  },
  {
   "cell_type": "markdown",
   "metadata": {},
   "source": [
    "## Set-up ##"
   ]
  },
  {
   "cell_type": "markdown",
   "metadata": {},
   "source": [
    "### Imports ###"
   ]
  },
  {
   "cell_type": "code",
   "execution_count": 2,
   "metadata": {},
   "outputs": [],
   "source": [
    "import string\n",
    "import openpyxl\n",
    "import googlemaps\n",
    "import pandas as pd\n",
    "from os import listdir\n",
    "from haversine import haversine"
   ]
  },
  {
   "cell_type": "markdown",
   "metadata": {},
   "source": [
    "### API key ###\n",
    "Reading in the Google Cloud developer API key."
   ]
  },
  {
   "cell_type": "code",
   "execution_count": 4,
   "metadata": {
    "tags": [
     "remove_cell"
    ]
   },
   "outputs": [],
   "source": [
    "with open(\"APIkey.txt\", 'r') as file:\n",
    "    API_key = file.read()"
   ]
  },
  {
   "cell_type": "markdown",
   "metadata": {},
   "source": [
    "### Client ###"
   ]
  },
  {
   "cell_type": "code",
   "execution_count": 275,
   "metadata": {},
   "outputs": [],
   "source": [
    "gmaps = googlemaps.Client(key=API_key)"
   ]
  },
  {
   "cell_type": "markdown",
   "metadata": {},
   "source": [
    "### Data files ###"
   ]
  },
  {
   "cell_type": "code",
   "execution_count": null,
   "metadata": {},
   "outputs": [],
   "source": [
    "data_files = listdir(\"Factset data\")"
   ]
  },
  {
   "cell_type": "markdown",
   "metadata": {},
   "source": [
    "### Global parameters ###\n",
    "Define custom functions to be used throughout the script."
   ]
  },
  {
   "cell_type": "code",
   "execution_count": 175,
   "metadata": {},
   "outputs": [],
   "source": [
    "def get_coords(location):\n",
    "    \"\"\"\n",
    "    get the longitude and latitude coordinates for a location\n",
    "\n",
    "    args:\n",
    "        location (str): location for which to get coordinates\n",
    "    \n",
    "    returns: \n",
    "        coordinates (dict): dictionary containing longitude and latitude denoted by the keys 'lng' and 'lat'\n",
    "    \"\"\" \n",
    "    return gmaps.geocode(location)[0]['geometry']['location']"
   ]
  },
  {
   "cell_type": "markdown",
   "metadata": {},
   "source": [
    "Set the addresses of the different office of Sparke & Keane (can be added to / adjusted)."
   ]
  },
  {
   "cell_type": "code",
   "execution_count": 176,
   "metadata": {},
   "outputs": [],
   "source": [
    "SK_Maastricht_address = 'Bassin 108, 6211 AK Maastricht, Netherlands'\n",
    "SK_Eindhoven_address = 'Achtseweg Zuid 221, 5651 GW Eindhoven, Netherlands'\n",
    "SK_Nijmegen_address = 'Oranjesingel 51, 6511 NP Nijmegen, Netherlands'\n",
    "\n",
    "SK_Maastricht_loc = get_coords(SK_Maastricht_address)\n",
    "SK_Eindhoven_loc = get_coords(SK_Eindhoven_address)\n",
    "SK_Nijmegen_loc = get_coords(SK_Nijmegen_address)\n",
    "\n",
    "SK_offices = {'SK Maastricht':  SK_Maastricht_loc,\n",
    "              'SK Eindhoven':   SK_Eindhoven_loc,\n",
    "              'SK Nijmegen':    SK_Nijmegen_loc} # dictionary with the Sparke & Keane offices locations (coordinates)"
   ]
  },
  {
   "cell_type": "markdown",
   "metadata": {},
   "source": [
    "Set the parameters of the output (Excel) file."
   ]
  },
  {
   "cell_type": "code",
   "execution_count": 280,
   "metadata": {},
   "outputs": [],
   "source": [
    "output_file = \"CSRD dataset.xlsx\"\n",
    "full_data_sheet = 'Ruwe data'\n",
    "criteria_sheet = 'Criteria'"
   ]
  },
  {
   "cell_type": "markdown",
   "metadata": {},
   "source": [
    "Set the parameters for the criteria. Criteria are a dictionary with the criteria name as key, and default value as value."
   ]
  },
  {
   "cell_type": "code",
   "execution_count": 338,
   "metadata": {},
   "outputs": [],
   "source": [
    "criteria = {# CSRD criteria\n",
    "            'Minimaal aantal werknemers (#)':       250,\n",
    "            'Minimale omzet (MM$)':                 50,\n",
    "            'Minimale activa (MM$)':                25,\n",
    "            # Sparke & Keane criteria\n",
    "            'Maximale afstand tot kantoor (km)':    50} # always put CSRD criteria first, and Sparke & Keane criteria last\n",
    "\n",
    "# the corresponding column names for each csrd criteria (from Factset)\n",
    "csrd_criteria_cols = {  'Minimaal aantal werknemers (#)':   'Number of Employees',\n",
    "                        'Minimale omzet (MM$)':             'Revenue (MM, USD)',\n",
    "                        'Minimale activa (MM$)':            'Total Assets (MM) (USD) (USD)'}"
   ]
  },
  {
   "cell_type": "markdown",
   "metadata": {},
   "source": [
    "## Pre-processing ##\n",
    "Cleaning up some weird stuff Factset adds to the Excel file. <span style=\"color:green\">**Run this only once.**</span>"
   ]
  },
  {
   "cell_type": "code",
   "execution_count": 265,
   "metadata": {},
   "outputs": [],
   "source": [
    "for data_file in data_files:\n",
    "    filename = data_file\n",
    "    wb = openpyxl.load_workbook(filename)\n",
    "    sheet = wb['Companies_Results']\n",
    "    sheet.delete_rows(1, 3)\n",
    "    wb.save(filename)"
   ]
  },
  {
   "cell_type": "markdown",
   "metadata": {},
   "source": [
    "### Loading data ###"
   ]
  },
  {
   "cell_type": "code",
   "execution_count": 271,
   "metadata": {},
   "outputs": [],
   "source": [
    "data = pd.DataFrame()\n",
    "for data_file in data_files:\n",
    "    temp_data = pd.read_excel(data_file)\n",
    "    data = pd.concat([data, temp_data], ignore_index=True)"
   ]
  },
  {
   "cell_type": "markdown",
   "metadata": {},
   "source": [
    "### Finding all unique cities ###"
   ]
  },
  {
   "cell_type": "code",
   "execution_count": 272,
   "metadata": {},
   "outputs": [],
   "source": [
    "city_countries = data.loc[data['City'] != '-',['City', 'Country']].drop_duplicates() # save unique city-country pairs (some cities occur in multiple countries) - drop all '-' for missing cities\n",
    "city_countries['City_Country'] = city_countries['City'] + ', ' + city_countries['Country'] # combine both pandas Series into one\n",
    "cities = city_countries['City_Country'].to_numpy() # save as a numpy array for fast iterating"
   ]
  },
  {
   "cell_type": "markdown",
   "metadata": {},
   "source": [
    "### Initializing empty dictionary ###\n",
    "The dictionary is going to hold the cities as the keys, and their coordinates as the values. The coordinates are also a dictionary with keys: 'lng' & 'lat' for longitude and latitude respectively, and the actual coordinates as the values."
   ]
  },
  {
   "cell_type": "code",
   "execution_count": 273,
   "metadata": {},
   "outputs": [],
   "source": [
    "city_coords = {}"
   ]
  },
  {
   "cell_type": "markdown",
   "metadata": {},
   "source": [
    "## Distances ##"
   ]
  },
  {
   "cell_type": "markdown",
   "metadata": {},
   "source": [
    "### Getting the location coordinates ###\n",
    "Getting the coordinates (longitude and latitude) for each of the unique cities using Google's Geocoding API."
   ]
  },
  {
   "cell_type": "code",
   "execution_count": 276,
   "metadata": {},
   "outputs": [],
   "source": [
    "for city in cities:\n",
    "    try:\n",
    "        coords = get_coords(city)\n",
    "    except IndexError as e:\n",
    "        print(f'{e} for city: {city}') # error handling for cities (city-country pairs) Google couldn't find\n",
    "    city_coords[city] = coords\n"
   ]
  },
  {
   "cell_type": "markdown",
   "metadata": {},
   "source": [
    "### Calculate the distances between cities and offices ###\n",
    "Calculate the distances between a city location (coordinates) and the Sparke & Keane offices (coordinates). The distances are calculated using the haversine formula for calculating distances between points on a sphere:\n",
    "$$\n",
    "a = \\sin^{2}(\\frac{\\Delta \\phi}{2}) + \\cos \\phi_1 \\cdot \\cos \\phi_2 \\cdot \\sin^{2}(\\frac{\\Delta \\lambda}{2})\n",
    "$$\n",
    "$$\n",
    "c = 2 \\cdot \\arctan 2(\\sqrt{a}, \\sqrt{1-a})\n",
    "$$\n",
    "$$\n",
    "d = \\textrm{R} \\cdot c\n",
    "$$\n",
    "Where $\\phi$ is latitude, $\\lambda$ is longitude, and $\\textrm{R}$ is the radius of Earth (approximately 6,371km). Additionally, $a$ is the haversine formula, which determines the haversine of the central angle connecting both points through the Earth's centre. $c$ is the haversine function, which determines the central angle. $d$ calculates the distance between both points using the radius of the Earth."
   ]
  },
  {
   "cell_type": "code",
   "execution_count": 277,
   "metadata": {},
   "outputs": [],
   "source": [
    "dist_to_offices = {} # save the distances to each office in a dictionary with the city as the key, and a dictionary of offices as the value\n",
    "\n",
    "for city in city_coords.keys():\n",
    "    temp = {} # save the distance to an office in a dictionary with the office as the key\n",
    "    for office in SK_offices.keys():\n",
    "        temp[office] = int(haversine((city_coords[city]['lat'], city_coords[city]['lng']), (SK_offices[office]['lat'], SK_offices[office]['lng'])))\n",
    "    dist_to_offices[city] = temp"
   ]
  },
  {
   "cell_type": "markdown",
   "metadata": {},
   "source": [
    "### Adding calculated data ###\n",
    "Add the distance to each Sparke & Keane office from each company to the dataset."
   ]
  },
  {
   "cell_type": "code",
   "execution_count": 278,
   "metadata": {},
   "outputs": [],
   "source": [
    "add_data = {}\n",
    "for i in range(len(data['Company Entity Id'])):\n",
    "    if data['City'][i] != '-':\n",
    "        city_country = data['City'][i] + ', ' + data['Country'][i] # combine the city and country data to facilitate searching the dist_to_offices dictionary\n",
    "        temp = {}\n",
    "        for office in dist_to_offices[city_country].keys():\n",
    "            temp[f'afstand tot {office}'] = dist_to_offices[city_country][office]\n",
    "        add_data[data['Company Entity Id'][i]] = temp\n",
    "\n",
    "add_data_df = pd.DataFrame.from_dict(add_data, orient='index') # convert the dictionary to a DataFrame\n",
    "data = data.join(add_data_df, on='Company Entity Id')"
   ]
  },
  {
   "cell_type": "markdown",
   "metadata": {},
   "source": [
    "### Saving the data back to Excel ###"
   ]
  },
  {
   "cell_type": "code",
   "execution_count": 279,
   "metadata": {},
   "outputs": [],
   "source": [
    "data.to_excel(output_file, sheet_name=full_data_sheet, index_label=\"index\")"
   ]
  },
  {
   "cell_type": "markdown",
   "metadata": {},
   "source": [
    "## Per office output ##\n",
    "Create per-office sheets in the Excel file where all companies that meet CSRD (and Sparke & Keane) criteria are saved."
   ]
  },
  {
   "cell_type": "markdown",
   "metadata": {},
   "source": [
    "### Criteria sheet ###\n",
    "Set up a sheet in the Excel file where the filter criteria (CSRD and Sparke & Keane) are specified."
   ]
  },
  {
   "cell_type": "code",
   "execution_count": 402,
   "metadata": {},
   "outputs": [],
   "source": [
    "wb = openpyxl.load_workbook(output_file)\n",
    "wb.create_sheet(criteria_sheet)\n",
    "\n",
    "i = 1\n",
    "for crit in criteria.keys():\n",
    "    wb[criteria_sheet][f'A{i}'] = crit\n",
    "    wb[criteria_sheet][f'B{i}'] = criteria[crit]\n",
    "    i += 1"
   ]
  },
  {
   "cell_type": "markdown",
   "metadata": {},
   "source": [
    "### Office sheets ###\n",
    "Set up the office sheets. Each sheet shows which companies meet the criteria for that specific office. For a company to be included it has to meet at least 2 out of the 3 CSRD criteria, as well as the Sparke & Keane criteria of distance to an office. The logic gate for meeting at least 2 out of the 3 CSRD criteria looks as follows: \n",
    "$$a\\text{ } \\&\\&\\text{ } (b || c)\\text{ } ||\\text{ } (b \\&\\& c)$$\n",
    "This will be build into the Excel file as a Filter function, so future users can make dynamic changes if they wish.\n",
    "\n",
    "<span style=\"color:green\">**NOTE: This is not future proof to a changing number of CSRD criteria, or a changing logic to qualify (i.e., if 2 out of 3 criteria changes, this won't change with).**</span>"
   ]
  },
  {
   "cell_type": "markdown",
   "metadata": {},
   "source": [
    "Make a dictionary for the upper case alphabet to use for easier referencing of Excel cels."
   ]
  },
  {
   "cell_type": "code",
   "execution_count": 370,
   "metadata": {},
   "outputs": [],
   "source": [
    "alph = list(string.ascii_uppercase)\n",
    "alph_dict = {}\n",
    "for i in range(26):\n",
    "    alph_dict[i] = alph[i]"
   ]
  },
  {
   "cell_type": "markdown",
   "metadata": {},
   "source": [
    "Set up the logic gates. One logic gate for each CSRD criteria, and $n$ number of logic gates for Sparke & Keane offices (as each office gets its own sheet)."
   ]
  },
  {
   "cell_type": "code",
   "execution_count": 403,
   "metadata": {},
   "outputs": [],
   "source": [
    "a = f\"('{full_data_sheet}'!{alph_dict[list(data.columns).index(csrd_criteria_cols[list(criteria)[0]]) + 1]}2:{alph_dict[list(data.columns).index(csrd_criteria_cols[list(criteria)[0]]) + 1]}{len(data) + 1}>='{criteria_sheet}'!B1)\" # logic gate for the first csrd criteria\n",
    "b = f\"('{full_data_sheet}'!{alph_dict[list(data.columns).index(csrd_criteria_cols[list(criteria)[1]]) + 1]}2:{alph_dict[list(data.columns).index(csrd_criteria_cols[list(criteria)[1]]) + 1]}{len(data) + 1}>='{criteria_sheet}'!B2)\" # logic gate for the second csrd criteria\n",
    "c = f\"('{full_data_sheet}'!{alph_dict[list(data.columns).index(csrd_criteria_cols[list(criteria)[2]]) + 1]}2:{alph_dict[list(data.columns).index(csrd_criteria_cols[list(criteria)[2]]) + 1]}{len(data) + 1}>='{criteria_sheet}'!B3)\" # logic gate for the third csrd criteria\n",
    "\n",
    "office_logic_gate = {}\n",
    "for office in SK_offices:\n",
    "    office_logic_gate[office] = f\"(('{full_data_sheet}'!{alph_dict[list(data.columns).index(f'afstand tot {office}') + 1]}2:{alph_dict[list(data.columns).index(f'afstand tot {office}') + 1]}{len(data) + 1}<'{criteria_sheet}'!B4)*('{full_data_sheet}'!{alph_dict[list(data.columns).index(f'afstand tot {office}') + 1]}2:{alph_dict[list(data.columns).index(f'afstand tot {office}') + 1]}{len(data) + 1}>0))\" # logic gate for the first S&K criteria"
   ]
  },
  {
   "cell_type": "markdown",
   "metadata": {},
   "source": [
    "Fill in the office sheets with the formulas."
   ]
  },
  {
   "cell_type": "code",
   "execution_count": null,
   "metadata": {},
   "outputs": [],
   "source": [
    "for office in SK_offices.keys():\n",
    "    wb.create_sheet(office)\n",
    "    wb[office]['A1'] = f\"'{full_data_sheet}'!$A$1:${alph_dict[len(data.columns)]}$1\"\n",
    "    wb[office]['A2'] = f\"FILTER('{full_data_sheet}'!$A$2:${alph_dict[len(data.columns)]}${len(data) + 1};(((({a}*({b}+{c}))+({b}*{c})))*{office_logic_gate[office]}))\""
   ]
  },
  {
   "cell_type": "markdown",
   "metadata": {},
   "source": [
    "<span style=\"color:green\">**NOTE: because of a support issue regarding Dynamic Arrays and openpyxl the above formulas cannot yet be entered as official formulas. Instead they are entered as text. Adding \"=\" before them in Excel enables the formulas (with Dynamic Arrays).**</span>\n"
   ]
  },
  {
   "cell_type": "markdown",
   "metadata": {},
   "source": [
    "### Save the ouput file ###"
   ]
  },
  {
   "cell_type": "code",
   "execution_count": 405,
   "metadata": {},
   "outputs": [],
   "source": [
    "wb.save(output_file)"
   ]
  }
 ],
 "metadata": {
  "kernelspec": {
   "display_name": "base",
   "language": "python",
   "name": "python3"
  },
  "language_info": {
   "codemirror_mode": {
    "name": "ipython",
    "version": 3
   },
   "file_extension": ".py",
   "mimetype": "text/x-python",
   "name": "python",
   "nbconvert_exporter": "python",
   "pygments_lexer": "ipython3",
   "version": "3.10.9"
  }
 },
 "nbformat": 4,
 "nbformat_minor": 2
}
